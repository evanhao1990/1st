{
 "cells": [
  {
   "cell_type": "code",
   "execution_count": 4,
   "metadata": {
    "collapsed": true
   },
   "outputs": [],
   "source": [
    "import pandas as pd\n",
    "from matplotlib import pyplot as plt\n",
    "plt.style.use('ggplot')\n",
    "%matplotlib inline"
   ]
  },
  {
   "cell_type": "code",
   "execution_count": 17,
   "metadata": {},
   "outputs": [
    {
     "data": {
      "text/html": [
       "<div>\n",
       "<style>\n",
       "    .dataframe thead tr:only-child th {\n",
       "        text-align: right;\n",
       "    }\n",
       "\n",
       "    .dataframe thead th {\n",
       "        text-align: left;\n",
       "    }\n",
       "\n",
       "    .dataframe tbody tr th {\n",
       "        vertical-align: top;\n",
       "    }\n",
       "</style>\n",
       "<table border=\"1\" class=\"dataframe\">\n",
       "  <thead>\n",
       "    <tr style=\"text-align: right;\">\n",
       "      <th></th>\n",
       "      <th>NOOS</th>\n",
       "      <th>CalendarYear</th>\n",
       "      <th>CalendarMonth</th>\n",
       "      <th>CountryCode</th>\n",
       "      <th>IBrandLabel</th>\n",
       "      <th>ProductCategory</th>\n",
       "      <th>ProductSubCategory</th>\n",
       "      <th>GIS</th>\n",
       "    </tr>\n",
       "  </thead>\n",
       "  <tbody>\n",
       "    <tr>\n",
       "      <th>0</th>\n",
       "      <td>0</td>\n",
       "      <td>2015</td>\n",
       "      <td>1</td>\n",
       "      <td>DE</td>\n",
       "      <td>JJ</td>\n",
       "      <td>ACCESSORIES</td>\n",
       "      <td>ACCESSORIES</td>\n",
       "      <td>9</td>\n",
       "    </tr>\n",
       "    <tr>\n",
       "      <th>1</th>\n",
       "      <td>0</td>\n",
       "      <td>2015</td>\n",
       "      <td>1</td>\n",
       "      <td>DE</td>\n",
       "      <td>JJ</td>\n",
       "      <td>ACCESSORIES</td>\n",
       "      <td>BAGS</td>\n",
       "      <td>21</td>\n",
       "    </tr>\n",
       "    <tr>\n",
       "      <th>2</th>\n",
       "      <td>0</td>\n",
       "      <td>2015</td>\n",
       "      <td>1</td>\n",
       "      <td>DE</td>\n",
       "      <td>JJ</td>\n",
       "      <td>ACCESSORIES</td>\n",
       "      <td>BEANIES</td>\n",
       "      <td>12</td>\n",
       "    </tr>\n",
       "    <tr>\n",
       "      <th>3</th>\n",
       "      <td>0</td>\n",
       "      <td>2015</td>\n",
       "      <td>1</td>\n",
       "      <td>DE</td>\n",
       "      <td>JJ</td>\n",
       "      <td>ACCESSORIES</td>\n",
       "      <td>BELTS</td>\n",
       "      <td>371</td>\n",
       "    </tr>\n",
       "    <tr>\n",
       "      <th>4</th>\n",
       "      <td>0</td>\n",
       "      <td>2015</td>\n",
       "      <td>1</td>\n",
       "      <td>DE</td>\n",
       "      <td>JJ</td>\n",
       "      <td>ACCESSORIES</td>\n",
       "      <td>CAPS</td>\n",
       "      <td>122</td>\n",
       "    </tr>\n",
       "  </tbody>\n",
       "</table>\n",
       "</div>"
      ],
      "text/plain": [
       "   NOOS  CalendarYear  CalendarMonth CountryCode IBrandLabel ProductCategory  \\\n",
       "0     0          2015              1          DE          JJ     ACCESSORIES   \n",
       "1     0          2015              1          DE          JJ     ACCESSORIES   \n",
       "2     0          2015              1          DE          JJ     ACCESSORIES   \n",
       "3     0          2015              1          DE          JJ     ACCESSORIES   \n",
       "4     0          2015              1          DE          JJ     ACCESSORIES   \n",
       "\n",
       "  ProductSubCategory  GIS  \n",
       "0        ACCESSORIES    9  \n",
       "1               BAGS   21  \n",
       "2            BEANIES   12  \n",
       "3              BELTS  371  \n",
       "4               CAPS  122  "
      ]
     },
     "execution_count": 17,
     "metadata": {},
     "output_type": "execute_result"
    }
   ],
   "source": [
    "df = pd.read_csv('seasonality data.csv', sep=';',decimal=',')\n",
    "df = df.rename(columns={'SUM(od.gis1)': 'GIS'})\n",
    "df.head()"
   ]
  },
  {
   "cell_type": "code",
   "execution_count": 25,
   "metadata": {},
   "outputs": [],
   "source": [
    "cat = df.pivot_table(values='GIS', index=['IBrandLabel','ProductCategory','CalendarMonth'],columns='CalendarYear')"
   ]
  },
  {
   "cell_type": "code",
   "execution_count": 34,
   "metadata": {},
   "outputs": [],
   "source": [
    "brand = df['IBrandLabel'] == 'JJ' \n",
    "category = df['ProductCategory'] == 'JEANS'"
   ]
  },
  {
   "cell_type": "code",
   "execution_count": 36,
   "metadata": {},
   "outputs": [],
   "source": [
    "sample = df[brand & category]"
   ]
  },
  {
   "cell_type": "code",
   "execution_count": null,
   "metadata": {
    "collapsed": true
   },
   "outputs": [],
   "source": []
  }
 ],
 "metadata": {
  "kernelspec": {
   "display_name": "Python 2",
   "language": "python",
   "name": "python2"
  },
  "language_info": {
   "codemirror_mode": {
    "name": "ipython",
    "version": 2
   },
   "file_extension": ".py",
   "mimetype": "text/x-python",
   "name": "python",
   "nbconvert_exporter": "python",
   "pygments_lexer": "ipython2",
   "version": "2.7.14"
  }
 },
 "nbformat": 4,
 "nbformat_minor": 2
}
