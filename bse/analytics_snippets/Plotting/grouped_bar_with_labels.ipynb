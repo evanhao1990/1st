{
 "cells": [
  {
   "cell_type": "markdown",
   "metadata": {},
   "source": [
    "### Grouped bar plot with labels above bar"
   ]
  },
  {
   "cell_type": "code",
   "execution_count": 1,
   "metadata": {},
   "outputs": [],
   "source": [
    "import pandas as pd\n",
    "import numpy as np\n",
    "import matplotlib.pyplot as plt\n",
    "%matplotlib inline\n",
    "plt.style.use('bsestyle_light')"
   ]
  },
  {
   "cell_type": "code",
   "execution_count": 14,
   "metadata": {},
   "outputs": [
    {
     "name": "stdout",
     "output_type": "stream",
     "text": [
      "         gsii_per_order  ns_per_order  cm1_per_order\n",
      "loyal             100.0          40.0           10.0\n",
      "regular            70.0          50.0           15.0\n"
     ]
    }
   ],
   "source": [
    "data = pd.DataFrame({'loyal':[100., 40., 10.], 'regular':[70., 50., 15.]}, index=['gsii_per_order', 'ns_per_order', 'cm1_per_order'])\n",
    "print data.T"
   ]
  },
  {
   "cell_type": "code",
   "execution_count": 17,
   "metadata": {},
   "outputs": [
    {
     "data": {
      "image/png": "[encoded data removed]",
      "text/plain": [
       "<Figure size 396x324 with 1 Axes>"
      ]
     },
     "metadata": {},
     "output_type": "display_data"
    }
   ],
   "source": [
    "fig, ax = plt.subplots(1, 1, figsize=(5.5, 4.5))\n",
    "\n",
    "barwidth = 0.25\n",
    "\n",
    "for i, col in enumerate(data.columns):\n",
    "    vals = data[col]\n",
    "    if i == 0: ind = np.arange(len(vals))\n",
    "    else: ind = ind + barwidth\n",
    "    ax.bar(ind, vals, width=barwidth, label=vals.name)\n",
    "\n",
    "for p, v in zip(ax.patches, list(data.values.T.flat)):\n",
    "    mid = (p.get_x() + p.get_width()/2) # Find midmpoint of bar\n",
    "    ax.text(x=mid, y=p.get_height()*1.05, s=np.round(int(v), 0), ha='center', va='bottom')\n",
    "\n",
    "ind = np.arange(len(data))\n",
    "pos = ind + barwidth*(len(data.columns) - 1)/2\n",
    "t = ax.set_xticks(pos)\n",
    "ax.set_xticklabels(data.index.tolist())\n",
    "ax.set_ylabel('EUR')\n",
    "l = ax.legend(loc='upper right')\n",
    "plt.tight_layout()"
   ]
  }
 ],
 "metadata": {
  "kernelspec": {
   "display_name": "ana",
   "language": "python",
   "name": "ana"
  },
  "language_info": {
   "codemirror_mode": {
    "name": "ipython",
    "version": 2
   },
   "file_extension": ".py",
   "mimetype": "text/x-python",
   "name": "python",
   "nbconvert_exporter": "python",
   "pygments_lexer": "ipython2",
   "version": "2.7.15"
  }
 },
 "nbformat": 4,
 "nbformat_minor": 2
}
