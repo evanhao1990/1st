{
 "cells": [
  {
   "cell_type": "markdown",
   "metadata": {},
   "source": [
    "## TIAGO: append new data to - Dim adwords campaign ID code"
   ]
  },
  {
   "cell_type": "code",
   "execution_count": 4,
   "metadata": {},
   "outputs": [],
   "source": [
    "import os, sys\n",
    "#figures directory\n",
    "fig_dir = os.path.join(os.path.dirname(os.getcwd()), 'figures')\n",
    "data_dir = os.path.join(os.path.dirname(os.getcwd()), 'data')\n",
    "\n",
    "#packages\n",
    "import pandas as pd\n",
    "import numpy as np\n",
    "import matplotlib.pyplot as plt\n",
    "import seaborn as sns\n",
    "from scipy import stats\n",
    "from statsmodels.stats.proportion import proportions_ztest\n",
    "from scipy.stats import chi2_contingency\n",
    "import time\n",
    "import matplotlib.ticker as plticker\n",
    "\n",
    "#Analytics-toolkit\n",
    "from database_connector.connector import DatabaseRedshift\n",
    "from plotting.plotting import *\n",
    "from bigquery_api.connector import BigQuery\n",
    "\n",
    "#settings \n",
    "%matplotlib inline\n",
    "#plt.style.library['bsestyle_light']\n",
    "plt.style.use('bsestyle_light')\n",
    "pd.options.mode.chained_assignment = None\n",
    "\n",
    "#make output tables wider and show more when columns has a lot of content (NO '...')\n",
    "pd.set_option('display.width', 1200)\n",
    "pd.set_option('max_colwidth', 200)"
   ]
  },
  {
   "cell_type": "markdown",
   "metadata": {},
   "source": [
    "### 1. FETCH CURRENT TABLE FROM SANDBOX"
   ]
  },
  {
   "cell_type": "code",
   "execution_count": 5,
   "metadata": {},
   "outputs": [],
   "source": [
    "get_historical = \"\"\"SELECT * FROM sandbox_reporting.dim_adwords_campaign_id\"\"\""
   ]
  },
  {
   "cell_type": "code",
   "execution_count": 6,
   "metadata": {},
   "outputs": [],
   "source": [
    "with DatabaseRedshift() as db:\n",
    "    df = db.fetch(get_historical)"
   ]
  },
  {
   "cell_type": "code",
   "execution_count": 7,
   "metadata": {},
   "outputs": [
    {
     "name": "stdout",
     "output_type": "stream",
     "text": [
      "<class 'pandas.core.frame.DataFrame'>\n",
      "RangeIndex: 4319 entries, 0 to 4318\n",
      "Data columns (total 2 columns):\n",
      "campaign      4319 non-null object\n",
      "campaignid    4319 non-null int64\n",
      "dtypes: int64(1), object(1)\n",
      "memory usage: 67.6+ KB\n",
      "None\n"
     ]
    }
   ],
   "source": [
    "print(df.info())"
   ]
  },
  {
   "cell_type": "code",
   "execution_count": 8,
   "metadata": {},
   "outputs": [
    {
     "name": "stdout",
     "output_type": "stream",
     "text": [
      "                                      campaign  campaignid\n",
      "0  Brand - Vero Moda - FI - Shopping - Generic  2067445337\n",
      "1                               Mamalicious SE   623883538\n"
     ]
    }
   ],
   "source": [
    "print(df.head(2))"
   ]
  },
  {
   "cell_type": "markdown",
   "metadata": {},
   "source": [
    "### 2. RUN SCRIPT FOR THE PAST 7 DAYS FOR ALL STOREFRONTS"
   ]
  },
  {
   "cell_type": "code",
   "execution_count": 9,
   "metadata": {},
   "outputs": [],
   "source": [
    "bq_account_dict = {'BS': '112804024',\n",
    "                   'MM':'113556952',\n",
    "                   'JL':'113608165',\n",
    "                   'JR':'113608269',\n",
    "                   'ON':'113635108',\n",
    "                   'JJ':'113663276',\n",
    "                   'VM':'113676549',\n",
    "                   'VL':'113698901',\n",
    "                   'BI':'124406727',\n",
    "                   'NI':'113595925',\n",
    "                   'NM':'113606041',\n",
    "                   'OC':'113614154',\n",
    "                   'OS':'113613067',\n",
    "                   'PC':'113671938',\n",
    "                   'SL':'159210175',\n",
    "                   'YA':'113684854'}"
   ]
  },
  {
   "cell_type": "code",
   "execution_count": 10,
   "metadata": {},
   "outputs": [],
   "source": [
    "bq_query = \"\"\"\n",
    "            SELECT '{}' AS sitebrand,\n",
    "                  trafficSource.campaign,\n",
    "                  trafficSource.adwordsClickInfo.campaignId\n",
    "            FROM `ga-360-bigquery-api.{}.ga_sessions_*`\n",
    "            WHERE (_TABLE_SUFFIX BETWEEN FORMAT_DATE('%Y%m%d',DATE_SUB(CURRENT_DATE(), INTERVAL 7 DAY)) AND FORMAT_DATE('%Y%m%d', DATE_SUB(CURRENT_DATE(), INTERVAL 1 DAY))) --last 7 days\n",
    "                 AND trafficSource.adwordsClickInfo.campaignId IS NOT NULL\n",
    "            GROUP BY 1,2,3\n",
    "\"\"\""
   ]
  },
  {
   "cell_type": "code",
   "execution_count": 11,
   "metadata": {},
   "outputs": [],
   "source": [
    "bq = BigQuery()\n",
    "\n",
    "df_appended = []\n",
    "for account in bq_account_dict:\n",
    "    dfi =bq.fetch(bq_query.format(account, bq_account_dict[account]))\n",
    "    df_appended.append(dfi)\n",
    "\n",
    "df_new = pd.concat(df_appended)"
   ]
  },
  {
   "cell_type": "code",
   "execution_count": 12,
   "metadata": {},
   "outputs": [
    {
     "name": "stdout",
     "output_type": "stream",
     "text": [
      "  sitebrand                                                 campaign  campaignId\n",
      "0        BS                 Bestseller - YAS - DK - Search - Branded   651922494\n",
      "1        BS                       Bestseller - DE - Search - Branded   634961904\n",
      "2        BS  Bestseller - Bestseller - DE - Search - Branded - Exact  2053904851\n",
      "3        BS                                            Bestseller DK   651922452\n",
      "4        BS        Bestseller - Bestseller - DE - Shopping - Branded  1739658694\n"
     ]
    }
   ],
   "source": [
    "print(df_new.head())"
   ]
  },
  {
   "cell_type": "code",
   "execution_count": 13,
   "metadata": {},
   "outputs": [
    {
     "name": "stdout",
     "output_type": "stream",
     "text": [
      "<class 'pandas.core.frame.DataFrame'>\n",
      "Int64Index: 1883 entries, 0 to 46\n",
      "Data columns (total 3 columns):\n",
      "sitebrand     1883 non-null object\n",
      "campaign      1883 non-null object\n",
      "campaignId    1883 non-null int64\n",
      "dtypes: int64(1), object(2)\n",
      "memory usage: 58.8+ KB\n",
      "None\n"
     ]
    }
   ],
   "source": [
    "print(df_new.info())"
   ]
  },
  {
   "cell_type": "code",
   "execution_count": 18,
   "metadata": {},
   "outputs": [
    {
     "name": "stdout",
     "output_type": "stream",
     "text": [
      "                                   campaign  campaignid\n",
      "0  Bestseller - YAS - DK - Search - Branded   651922494\n",
      "1        Bestseller - DE - Search - Branded   634961904\n"
     ]
    }
   ],
   "source": [
    "#only needed columns\n",
    "df_new = df_new[['campaign','campaignId']]\n",
    "df_new.rename(columns={'campaignId':'campaignid'},inplace=True)\n",
    "print(df_new.head(2))"
   ]
  },
  {
   "cell_type": "markdown",
   "metadata": {},
   "source": [
    "### 3. APPEND NEW DATA TO HISTORICAL ONE AND DROP DUPLICATES"
   ]
  },
  {
   "cell_type": "code",
   "execution_count": 19,
   "metadata": {},
   "outputs": [
    {
     "name": "stdout",
     "output_type": "stream",
     "text": [
      "<class 'pandas.core.frame.DataFrame'>\n",
      "Int64Index: 6202 entries, 0 to 4318\n",
      "Data columns (total 2 columns):\n",
      "campaign      6202 non-null object\n",
      "campaignid    6202 non-null int64\n",
      "dtypes: int64(1), object(1)\n",
      "memory usage: 145.4+ KB\n",
      "None\n"
     ]
    }
   ],
   "source": [
    "#append the two dataframes\n",
    "df_updated = df_new.append(df)\n",
    "print(df_updated.info())"
   ]
  },
  {
   "cell_type": "code",
   "execution_count": 20,
   "metadata": {},
   "outputs": [
    {
     "name": "stdout",
     "output_type": "stream",
     "text": [
      "<class 'pandas.core.frame.DataFrame'>\n",
      "Int64Index: 4368 entries, 0 to 6201\n",
      "Data columns (total 2 columns):\n",
      "campaign      4368 non-null object\n",
      "campaignid    4368 non-null int64\n",
      "dtypes: int64(1), object(1)\n",
      "memory usage: 102.4+ KB\n",
      "None\n"
     ]
    }
   ],
   "source": [
    "#reset index and drop duplicates, check size\n",
    "df_updated = df_updated.reset_index(drop=True) #otherwise we have repetitive indexes due to the Concat function and thus we get duplicates when inserting in DWH\n",
    "df_updated = df_updated.drop_duplicates() #we assume the enw and historical date have repetead fields\n",
    "print(df_updated.info()) #we see that some rows were dropped"
   ]
  },
  {
   "cell_type": "markdown",
   "metadata": {},
   "source": [
    "### 4. EXPORT DATAFRAME BACK TO REDSHIFT REPLACING THE CURRENT HISTORICAL DATA"
   ]
  },
  {
   "cell_type": "code",
   "execution_count": 21,
   "metadata": {},
   "outputs": [
    {
     "name": "stdout",
     "output_type": "stream",
     "text": [
      "Table sandbox_reporting.dim_adwords_campaign_id created successfully\n",
      "Data written to sandbox_reporting.dim_adwords_campaign_id\n"
     ]
    }
   ],
   "source": [
    "with DatabaseRedshift() as db:\n",
    "    db.insert(df=df_updated, schema='sandbox_reporting',table='dim_adwords_campaign_id', s3_csv_name='dim_adwords_campaign_id.csv', delimiter='~', mode='replace')"
   ]
  }
 ],
 "metadata": {
  "kernelspec": {
   "display_name": "ana",
   "language": "python",
   "name": "ana"
  },
  "language_info": {
   "codemirror_mode": {
    "name": "ipython",
    "version": 3
   },
   "file_extension": ".py",
   "mimetype": "text/x-python",
   "name": "python",
   "nbconvert_exporter": "python",
   "pygments_lexer": "ipython3",
   "version": "3.7.3"
  }
 },
 "nbformat": 4,
 "nbformat_minor": 4
}
