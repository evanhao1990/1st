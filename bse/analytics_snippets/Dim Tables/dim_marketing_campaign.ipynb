{
 "cells": [
  {
   "cell_type": "markdown",
   "metadata": {},
   "source": [
    "## BCM-779- Create Append script for dim_web_campaign table\n",
    "#### ticket: https://bestseller.jira.com/browse/BCM-779\n",
    "#### METHODOLOGY:\n",
    "- Create Python Script that fetches historical data from Sandbox Reporting as 'Dim Marketing Campaign' (last time ran on Monday 30th September)\n",
    "- Run the script for the last 7 days and append it to the above\n",
    "- drop duplicates and replace the table with the updated one \n",
    "- Set warning to run this script every Monday to update the table (starting from Monday 7th October)"
   ]
  },
  {
   "cell_type": "code",
   "execution_count": 1,
   "metadata": {},
   "outputs": [],
   "source": [
    "import os, sys\n",
    "#figures directory\n",
    "fig_dir = os.path.join(os.path.dirname(os.getcwd()), 'figures')\n",
    "data_dir = os.path.join(os.path.dirname(os.getcwd()), 'data')\n",
    "\n",
    "#packages\n",
    "import pandas as pd\n",
    "import numpy as np\n",
    "import matplotlib.pyplot as plt\n",
    "import seaborn as sns\n",
    "from scipy import stats\n",
    "from statsmodels.stats.proportion import proportions_ztest\n",
    "from scipy.stats import chi2_contingency\n",
    "import time\n",
    "import matplotlib.ticker as plticker\n",
    "\n",
    "#Analytics-toolkit\n",
    "from database_connector.connector import DatabaseRedshift\n",
    "from plotting.plotting import *\n",
    "from bigquery_api.connector import BigQuery\n",
    "\n",
    "#settings \n",
    "%matplotlib inline\n",
    "#plt.style.library['bsestyle_light']\n",
    "plt.style.use('bsestyle_light')\n",
    "pd.options.mode.chained_assignment = None\n",
    "\n",
    "#make output tables wider and show more when columns has a lot of content (NO '...')\n",
    "pd.set_option('display.width', 1200)\n",
    "pd.set_option('max_colwidth', 200)"
   ]
  },
  {
   "cell_type": "markdown",
   "metadata": {},
   "source": [
    "### 1. FETCH CURRENT TABLE FROM SANDBOX"
   ]
  },
  {
   "cell_type": "code",
   "execution_count": 2,
   "metadata": {},
   "outputs": [],
   "source": [
    "get_historical = \"\"\"SELECT * FROM sandbox_reporting.dim_marketing_campaign\"\"\""
   ]
  },
  {
   "cell_type": "code",
   "execution_count": 3,
   "metadata": {},
   "outputs": [],
   "source": [
    "with DatabaseRedshift() as db:\n",
    "    df = db.fetch(get_historical)"
   ]
  },
  {
   "cell_type": "code",
   "execution_count": 4,
   "metadata": {},
   "outputs": [
    {
     "name": "stdout",
     "output_type": "stream",
     "text": [
      "<class 'pandas.core.frame.DataFrame'>\n",
      "RangeIndex: 289361 entries, 0 to 289360\n",
      "Data columns (total 4 columns):\n",
      "campaign           286588 non-null object\n",
      "source             289361 non-null object\n",
      "medium             289361 non-null object\n",
      "channelgrouping    289361 non-null object\n",
      "dtypes: object(4)\n",
      "memory usage: 8.8+ MB\n",
      "None\n"
     ]
    }
   ],
   "source": [
    "print(df.info())"
   ]
  },
  {
   "cell_type": "markdown",
   "metadata": {},
   "source": [
    "### 2. RUN SCRIPT FOR THE PAST 7 DAYS FOR ALL STOREFRONTS"
   ]
  },
  {
   "cell_type": "code",
   "execution_count": 5,
   "metadata": {},
   "outputs": [],
   "source": [
    "bq_account_dict = {'BS': '112804024',\n",
    "                   'MM':'113556952',\n",
    "                   'JL':'113608165',\n",
    "                   'JR':'113608269',\n",
    "                   'ON':'113635108',\n",
    "                   'JJ':'113663276',\n",
    "                   'VM':'113676549',\n",
    "                   'VL':'113698901',\n",
    "                   'BI':'124406727',\n",
    "                   'NI':'113595925',\n",
    "                   'NM':'113606041',\n",
    "                   'OC':'113614154',\n",
    "                   'OS':'113613067',\n",
    "                   'PC':'113671938',\n",
    "                   'SL':'159210175',\n",
    "                   'YA':'113684854'}"
   ]
  },
  {
   "cell_type": "code",
   "execution_count": 6,
   "metadata": {},
   "outputs": [],
   "source": [
    "bq_query = \"\"\"\n",
    "            SELECT '{}' AS sitebrand,\n",
    "                  trafficSource.campaign,\n",
    "                  trafficSource.source,\n",
    "                  trafficSource.medium,\n",
    "                  channelGrouping AS channelgrouping\n",
    "            FROM `ga-360-bigquery-api.{}.ga_sessions_*`\n",
    "            WHERE (_TABLE_SUFFIX BETWEEN FORMAT_DATE('%Y%m%d',DATE_SUB(CURRENT_DATE(), INTERVAL 7 DAY)) AND FORMAT_DATE('%Y%m%d', DATE_SUB(CURRENT_DATE(), INTERVAL 1 DAY))) --last 7 days\n",
    "            GROUP BY 1,2,3,4,5\n",
    "\"\"\""
   ]
  },
  {
   "cell_type": "code",
   "execution_count": 7,
   "metadata": {},
   "outputs": [],
   "source": [
    "bq = BigQuery()\n",
    "\n",
    "df_appended = []\n",
    "for account in bq_account_dict:\n",
    "    dfi =bq.fetch(bq_query.format(account, bq_account_dict[account]))\n",
    "    df_appended.append(dfi)\n",
    "\n",
    "df_new = pd.concat(df_appended)"
   ]
  },
  {
   "cell_type": "code",
   "execution_count": 8,
   "metadata": {},
   "outputs": [
    {
     "name": "stdout",
     "output_type": "stream",
     "text": [
      "  sitebrand                                                            campaign        source               medium       channelgrouping\n",
      "0        BS  Bestseller - Bestseller - DE - Search - Branded - Other Categories        google                  cpc       Google Shopping\n",
      "1        BS                                                           (not set)        google                  cpc       Google Shopping\n",
      "2        BS              Bestseller - Vero Moda - BE - Search - Branded - Dutch        google                  cpc       Google Shopping\n",
      "3        BS                                                           (not set)  confirmation  transactional_email  Transactional_Emails\n",
      "4        BS                    Bestseller - J Lindeberg - FI - Search - Branded        google                  cpc       Google Shopping\n"
     ]
    }
   ],
   "source": [
    "print(df_new.head())"
   ]
  },
  {
   "cell_type": "code",
   "execution_count": 9,
   "metadata": {},
   "outputs": [
    {
     "name": "stdout",
     "output_type": "stream",
     "text": [
      "<class 'pandas.core.frame.DataFrame'>\n",
      "Int64Index: 13721 entries, 0 to 264\n",
      "Data columns (total 5 columns):\n",
      "sitebrand          13721 non-null object\n",
      "campaign           13721 non-null object\n",
      "source             13721 non-null object\n",
      "medium             13721 non-null object\n",
      "channelgrouping    13721 non-null object\n",
      "dtypes: object(5)\n",
      "memory usage: 643.2+ KB\n",
      "None\n"
     ]
    }
   ],
   "source": [
    "print(df_new.info())"
   ]
  },
  {
   "cell_type": "code",
   "execution_count": 10,
   "metadata": {},
   "outputs": [
    {
     "name": "stdout",
     "output_type": "stream",
     "text": [
      "                                                             campaign  source medium  channelgrouping\n",
      "0  Bestseller - Bestseller - DE - Search - Branded - Other Categories  google    cpc  Google Shopping\n",
      "1                                                           (not set)  google    cpc  Google Shopping\n"
     ]
    }
   ],
   "source": [
    "#exclude sitebrand\n",
    "df_new = df_new[['campaign','source','medium','channelgrouping']]\n",
    "print(df_new.head(2))"
   ]
  },
  {
   "cell_type": "markdown",
   "metadata": {},
   "source": [
    "### 3. APPEND NEW DATA TO HISTORICAL ONE AND DROP DUPLICATES"
   ]
  },
  {
   "cell_type": "code",
   "execution_count": 11,
   "metadata": {},
   "outputs": [
    {
     "name": "stdout",
     "output_type": "stream",
     "text": [
      "<class 'pandas.core.frame.DataFrame'>\n",
      "Int64Index: 303082 entries, 0 to 289360\n",
      "Data columns (total 4 columns):\n",
      "campaign           300309 non-null object\n",
      "source             303082 non-null object\n",
      "medium             303082 non-null object\n",
      "channelgrouping    303082 non-null object\n",
      "dtypes: object(4)\n",
      "memory usage: 11.6+ MB\n",
      "None\n"
     ]
    }
   ],
   "source": [
    "#append the two dataframes\n",
    "df_updated = df_new.append(df)\n",
    "print(df_updated.info())"
   ]
  },
  {
   "cell_type": "code",
   "execution_count": 12,
   "metadata": {},
   "outputs": [
    {
     "name": "stdout",
     "output_type": "stream",
     "text": [
      "<class 'pandas.core.frame.DataFrame'>\n",
      "Int64Index: 291686 entries, 0 to 303081\n",
      "Data columns (total 4 columns):\n",
      "campaign           288913 non-null object\n",
      "source             291686 non-null object\n",
      "medium             291686 non-null object\n",
      "channelgrouping    291686 non-null object\n",
      "dtypes: object(4)\n",
      "memory usage: 11.1+ MB\n",
      "None\n"
     ]
    }
   ],
   "source": [
    "#reset index and drop duplicates, check size\n",
    "df_updated = df_updated.reset_index(drop=True) #otherwise we have repetitive indexes due to the Concat function and thus we get duplicates when inserting in DWH\n",
    "df_updated = df_updated.drop_duplicates() #we assume the enw and historical date have repetead fields\n",
    "print(df_updated.info()) #we see that some rows were dropped"
   ]
  },
  {
   "cell_type": "markdown",
   "metadata": {},
   "source": [
    "### 4. EXPORT DATAFRAME BACK TO REDSHIFT REPLACING THE CURRENT HISTORICAL DATA"
   ]
  },
  {
   "cell_type": "code",
   "execution_count": 13,
   "metadata": {},
   "outputs": [
    {
     "name": "stdout",
     "output_type": "stream",
     "text": [
      "Table sandbox_reporting.dim_marketing_campaign created successfully\n",
      "Saved dwh/dim_marketing_campaign.csv to bse-analytics-dev.bseint.io\n",
      "Data written to sandbox_reporting.dim_marketing_campaign\n"
     ]
    }
   ],
   "source": [
    "with DatabaseRedshift() as db:\n",
    "    db.insert(df=df_updated, schema='sandbox_reporting',table='dim_marketing_campaign', s3_csv_name='dim_marketing_campaign.csv', delimiter='~', mode='replace')"
   ]
  }
 ],
 "metadata": {
  "kernelspec": {
   "display_name": "ana",
   "language": "python",
   "name": "ana"
  },
  "language_info": {
   "codemirror_mode": {
    "name": "ipython",
    "version": 3
   },
   "file_extension": ".py",
   "mimetype": "text/x-python",
   "name": "python",
   "nbconvert_exporter": "python",
   "pygments_lexer": "ipython3",
   "version": "3.7.3"
  }
 },
 "nbformat": 4,
 "nbformat_minor": 4
}
