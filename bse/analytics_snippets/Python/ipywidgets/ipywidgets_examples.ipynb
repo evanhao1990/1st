{
 "cells": [
  {
   "cell_type": "markdown",
   "metadata": {},
   "source": [
    "#### Widgets\n",
    "\n",
    "Most of the widgets have common inputs which we can use to personalize them:\n",
    "\n",
    "* options --> list of categories/features to be in widget\n",
    "* value --> initial value of widget\n",
    "* description --> name of widget in output\n",
    "\n",
    "** example: widgets.Select(options= ['option1', 'option2'], value='option1', description='My option: ')** \n",
    "\n",
    "#### Interaction\n",
    "\n",
    "The way we interact with the widgets can be done in several forms but I mainly use the **interact** function where we specify the function we want to interact with, and, for every input of that function, we can either use a widget or set it at a fixed variable.\n",
    "\n",
    "** example: interact(my_function, input1=fixed(my_dataset), input2=my_widget)** \n"
   ]
  },
  {
   "cell_type": "markdown",
   "metadata": {},
   "source": [
    "## ipywidgets examples notebook"
   ]
  },
  {
   "cell_type": "code",
   "execution_count": 12,
   "metadata": {},
   "outputs": [],
   "source": [
    "import matplotlib.pyplot as plt\n",
    "%matplotlib inline\n",
    "import numpy as np\n",
    "import pandas as pd\n",
    "\n",
    "from ipywidgets import widgets\n",
    "from ipywidgets import interact, fixed, interactive, VBox\n",
    "from IPython.display import display\n",
    "from IPython.display import clear_output"
   ]
  },
  {
   "cell_type": "markdown",
   "metadata": {},
   "source": [
    "### 1) Widgets and interact"
   ]
  },
  {
   "cell_type": "code",
   "execution_count": 13,
   "metadata": {},
   "outputs": [],
   "source": [
    "# data to use\n",
    "ana_list = ['Rui', 'Rory', 'Bram', 'Ziyan', 'Marcel', 'Chiara', 'Tiago']\n",
    "ana_dict = {'Rui':'China', 'Rory': 'UK', 'Bram': 'Belgium', 'Ziyan': 'China', 'Marcel':'China', \n",
    "            'Chiara':'Italy', 'Tiago': 'Benfica'}\n",
    "\n",
    "# define function to interact with\n",
    "def name(x):\n",
    "    print '{} then {}'.format(x, ana_dict[x])"
   ]
  },
  {
   "cell_type": "code",
   "execution_count": 14,
   "metadata": {},
   "outputs": [
    {
     "data": {
      "application/vnd.jupyter.widget-view+json": {
       "model_id": "c87346a004de408ab163129187703804",
       "version_major": 2,
       "version_minor": 0
      },
      "text/plain": [
       "aW50ZXJhY3RpdmUoY2hpbGRyZW49KFNlbGVjdChkZXNjcmlwdGlvbj11J3gnLCBvcHRpb25zPSgnUnVpJywgJ1JvcnknLCAnQnJhbScsICdaaXlhbicsICdNYXJjZWwnLCAnQ2hpYXJhJywgJ1TigKY=\n"
      ]
     },
     "metadata": {},
     "output_type": "display_data"
    },
    {
     "data": {
      "text/plain": [
       "<function __main__.name>"
      ]
     },
     "execution_count": 14,
     "metadata": {},
     "output_type": "execute_result"
    }
   ],
   "source": [
    "# create widget\n",
    "dropdown = widgets.Select(options= ana_list)\n",
    "\n",
    "# interact with function using widget created previously\n",
    "interact(name, x=dropdown)"
   ]
  },
  {
   "cell_type": "code",
   "execution_count": 15,
   "metadata": {},
   "outputs": [
    {
     "data": {
      "application/vnd.jupyter.widget-view+json": {
       "model_id": "fff3ff781301449aa4790c93c5719ff7",
       "version_major": 2,
       "version_minor": 0
      },
      "text/plain": [
       "aW50ZXJhY3RpdmUoY2hpbGRyZW49KERyb3Bkb3duKGRlc2NyaXB0aW9uPXUnQW5hbGl0aWNvOiAnLCBvcHRpb25zPSgnUnVpJywgJ1JvcnknLCAnQnJhbScsICdaaXlhbicsICdNYXJjZWwnLCDigKY=\n"
      ]
     },
     "metadata": {},
     "output_type": "display_data"
    },
    {
     "data": {
      "text/plain": [
       "<function __main__.name>"
      ]
     },
     "execution_count": 15,
     "metadata": {},
     "output_type": "execute_result"
    }
   ],
   "source": [
    "# Another example using Dropdown\n",
    "dropdown = widgets.Dropdown(options= ana_list, description='Analitico: ')\n",
    "\n",
    "interact(name, x= dropdown)"
   ]
  },
  {
   "cell_type": "code",
   "execution_count": 16,
   "metadata": {},
   "outputs": [
    {
     "data": {
      "application/vnd.jupyter.widget-view+json": {
       "model_id": "e3d6e99ea70f4273b9874ab3510ba54d",
       "version_major": 2,
       "version_minor": 0
      },
      "text/plain": [
       "aW50ZXJhY3RpdmUoY2hpbGRyZW49KEludFNsaWRlcih2YWx1ZT0wLCBkZXNjcmlwdGlvbj11J3gnLCBtYXg9NTAsIHN0ZXA9MiksIE91dHB1dCgpKSwgX2RvbV9jbGFzc2VzPSh1J3dpZGdldC3igKY=\n"
      ]
     },
     "metadata": {},
     "output_type": "display_data"
    },
    {
     "data": {
      "text/plain": [
       "<function __main__.number>"
      ]
     },
     "execution_count": 16,
     "metadata": {},
     "output_type": "execute_result"
    }
   ],
   "source": [
    "# Example function\n",
    "def number(x, y):\n",
    "    print 'Hi {}, your number is:'.format(y)\n",
    "    return x**2\n",
    "\n",
    "# Create slider widget\n",
    "my_slide = widgets.IntSlider(min=0, max=50, step=2, value=0)\n",
    "\n",
    "# Interact with a fixed variable\n",
    "interact(number, x=my_slide, y=fixed('Zelalem'))"
   ]
  },
  {
   "cell_type": "markdown",
   "metadata": {},
   "source": [
    "### 2) Interactive object\n",
    "\n",
    "Works similarly to interact but it makes easier to save arguments/variables in the interactive object "
   ]
  },
  {
   "cell_type": "code",
   "execution_count": 17,
   "metadata": {},
   "outputs": [],
   "source": [
    "# Create widget\n",
    "my_wi = widgets.ToggleButtons(options=['monday', 'tuesday', 'wednesday'], description='Good morning',\n",
    "                             icons=['fa-accessible-icon', 'fa-trash', 'fa-trash'],\n",
    "                             button_style='info')\n",
    "\n",
    "# Create function\n",
    "def day_func(x):\n",
    "    day_dict = {'monday':1, 'tuesday':2, 'wednesday':3}\n",
    "    \n",
    "    return day_dict[x]"
   ]
  },
  {
   "cell_type": "code",
   "execution_count": 18,
   "metadata": {},
   "outputs": [
    {
     "data": {
      "application/vnd.jupyter.widget-view+json": {
       "model_id": "2b4e514336b541a0865ec3bb72ee47bf",
       "version_major": 2,
       "version_minor": 0
      },
      "text/plain": [
       "aW50ZXJhY3RpdmUoY2hpbGRyZW49KFRvZ2dsZUJ1dHRvbnMoYnV0dG9uX3N0eWxlPXUnaW5mbycsIGRlc2NyaXB0aW9uPXUnR29vZCBtb3JuaW5nJywgaWNvbnM9KHUnZmEtYWNjZXNzaWJsZS3igKY=\n"
      ]
     },
     "metadata": {},
     "output_type": "display_data"
    },
    {
     "name": "stdout",
     "output_type": "stream",
     "text": [
      "\n",
      " No output shown but the result is saved in w, check bellow\n"
     ]
    }
   ],
   "source": [
    "# assign variable to interactive object --> atributes of the variable will always depend on the interaction with the main function\n",
    "w = interactive(day_func, x=my_wi)\n",
    "display(w)\n",
    "\n",
    "print '\\n No output shown but the result is saved in w, check bellow'"
   ]
  },
  {
   "cell_type": "code",
   "execution_count": 19,
   "metadata": {},
   "outputs": [
    {
     "name": "stdout",
     "output_type": "stream",
     "text": [
      "1\n",
      "{'x': 'monday'}\n"
     ]
    }
   ],
   "source": [
    "print w.result\n",
    "print w.kwargs"
   ]
  },
  {
   "cell_type": "markdown",
   "metadata": {},
   "source": [
    "### Tabs & widgets.children\n",
    "\n",
    "Interactive function using tabs and widgets was created as follows: \n",
    "\n",
    "* Create a dataset to use as example as well as functions to interact with\n",
    "* Create widgets -> for each interactive functionality\n",
    "* Create tabs \n",
    "* Create an interactive object (with the widgets and functions to point to) and assign each element (children) to a specific tab\n",
    "* Display output"
   ]
  },
  {
   "cell_type": "code",
   "execution_count": 20,
   "metadata": {},
   "outputs": [],
   "source": [
    "# Create random data\n",
    "brand_dict = {0:'JJ', 1:'ON', 2:'VL'}\n",
    "country_dict = {0:'DE', 1:'DK', 2:'NL'}\n",
    "\n",
    "brands = [brand_dict[x] for x in np.random.randint(3, size=500)]\n",
    "countries = [country_dict[x] for x in np.random.randint(3, size=500)]\n",
    "gsii = np.random.randint(1,100000,500)\n",
    "nb_customers = np.random.randint(1,10000,500)\n",
    "\n",
    "df = pd.DataFrame({'Country': countries, 'Brand': brands, 'GSII': gsii, 'nb_customers':nb_customers})"
   ]
  },
  {
   "cell_type": "code",
   "execution_count": 21,
   "metadata": {},
   "outputs": [],
   "source": [
    "# Create widgets for interactive plots\n",
    "\n",
    "brands_list = ['All'] + [brand for brand in df.Brand.unique()]\n",
    "country_list = ['All'] + [country for country in df.Country.unique()]\n",
    "\n",
    "metric_w = widgets.ToggleButtons(options=['GSII', 'nb_customers'], value= 'GSII', description= 'Metric')\n",
    "brand_w = widgets.Dropdown(options=brands_list, value='All', description= 'Brand')\n",
    "country_w = widgets.Dropdown(options=country_list, value='All', description= 'Country')\n",
    "\n",
    "save_fig_w = widgets.ToggleButtons(options= ['No', 'Yes'], description= 'Save figure?')\n",
    "slider = widgets.IntSlider(min=1, max=4, step=1, value=1)"
   ]
  },
  {
   "cell_type": "code",
   "execution_count": 22,
   "metadata": {},
   "outputs": [],
   "source": [
    "# functions to interact with: filter function & plot function\n",
    "\n",
    "def filter_df(dataframe, filter_brand='All', filter_country='All'):\n",
    "    \n",
    "    df_f = dataframe.copy()\n",
    "    \n",
    "    if filter_brand != 'All':\n",
    "        df_f = df_f[df_f.Brand == filter_brand]\n",
    "        \n",
    "    if filter_country != 'All':\n",
    "        df_f = df_f[df_f.Country == filter_country]\n",
    "    \n",
    "    return df_f\n",
    "\n",
    "def plot_function(dataframe, metric='GSII', filter_brands='All', filter_countries='All', save_fig='No', plots_per_page=1):\n",
    "    \n",
    "    df_plot = filter_df(dataframe, filter_brands, filter_countries)\n",
    "    \n",
    "    print 'My metric is {}'.format(metric)\n",
    "    print 'brand: {}, country: {}'.format(filter_brands, filter_countries)\n",
    "    \n",
    "    fig_size_dict = {1: (12.4, 4.5),2: (5.5, 4.5), 4:(5.5, 2.2)}\n",
    "    \n",
    "    try:\n",
    "        fig = plt.figure(figsize=fig_size_dict[plots_per_page])\n",
    "        ax = fig.add_subplot(1,1,1)\n",
    "        \n",
    "        ax.plot(df_plot.index, df_plot[metric])\n",
    "    except:\n",
    "        print ''\n",
    "        print 'Figure size for {} plots per page not available yet, try another one'.format(plots_per_page)\n",
    "    \n",
    "    if save_fig == 'Yes':\n",
    "        # Here we shall use: fig.save_fig\n",
    "        print 'Figure saved'\n",
    "    else: \n",
    "        print 'Figure is not saved'"
   ]
  },
  {
   "cell_type": "code",
   "execution_count": 24,
   "metadata": {},
   "outputs": [
    {
     "data": {
      "application/vnd.jupyter.widget-view+json": {
       "model_id": "24bbeef8fb9a4fbc812ef36668bd9ab6",
       "version_major": 2,
       "version_minor": 0
      },
      "text/plain": [
       "VGFiKGNoaWxkcmVuPShWQm94KGNoaWxkcmVuPShUb2dnbGVCdXR0b25zKGRlc2NyaXB0aW9uPXUnTWV0cmljJywgb3B0aW9ucz0oJ0dTSUknLCAnbmJfY3VzdG9tZXJzJyksIHZhbHVlPSdHU0nigKY=\n"
      ]
     },
     "metadata": {},
     "output_type": "display_data"
    },
    {
     "data": {
      "application/vnd.jupyter.widget-view+json": {
       "model_id": "d86395646b124795a0270b0b014e9bfa",
       "version_major": 2,
       "version_minor": 0
      },
      "text/plain": [
       "Output()"
      ]
     },
     "metadata": {},
     "output_type": "display_data"
    }
   ],
   "source": [
    "# Interactive plot\n",
    "\n",
    "# create tabs\n",
    "my_tabs = widgets.Tab()\n",
    "my_tabs.set_title(0, 'Metrics')\n",
    "my_tabs.set_title(1, 'Filters')\n",
    "my_tabs.set_title(2, 'Save figure')\n",
    "\n",
    "# interact function\n",
    "f = interactive(plot_function, dataframe=fixed(df), metric= metric_w, filter_brands=brand_w, \n",
    "                filter_countries = country_w, save_fig=save_fig_w, plots_per_page=slider)\n",
    "\n",
    "# assign widgets to tabs\n",
    "my_tabs.children = [VBox(children = f.children[0:1]), VBox(children = f.children[1:3]), VBox(children = f.children[3:5])]\n",
    "display(my_tabs)\n",
    "\n",
    "# display output\n",
    "f.children[5]"
   ]
  },
  {
   "cell_type": "markdown",
   "metadata": {},
   "source": [
    "### Notes/extras\n",
    "\n",
    "* Check my TS & classif notebooks for more complex interactive functions"
   ]
  },
  {
   "cell_type": "code",
   "execution_count": null,
   "metadata": {},
   "outputs": [],
   "source": [
    "widgets.jslink # to link properties of widgets"
   ]
  },
  {
   "cell_type": "code",
   "execution_count": null,
   "metadata": {},
   "outputs": [],
   "source": [
    "# other widgets\n",
    "\n",
    "widgets.SelectMultiple(options=['bla', 'ble', 'bli'])\n",
    "widgets.Box\n",
    "widgets.Button\n",
    "widgets.HBox\n",
    "widgets.ToggleButton\n",
    "widgets.Text  # very powerful as the user can write something to be in output"
   ]
  },
  {
   "cell_type": "code",
   "execution_count": null,
   "metadata": {},
   "outputs": [],
   "source": [
    "# can be added to widget to make description style look better, style=style\n",
    "\n",
    "style = {'description_width': 'initial'}"
   ]
  }
 ],
 "metadata": {
  "kernelspec": {
   "display_name": "Python 2",
   "language": "python",
   "name": "python2"
  },
  "language_info": {
   "codemirror_mode": {
    "name": "ipython",
    "version": 2
   },
   "file_extension": ".py",
   "mimetype": "text/x-python",
   "name": "python",
   "nbconvert_exporter": "python",
   "pygments_lexer": "ipython2",
   "version": "2.7.15"
  },
  "widgets": {
   "state": {
    "d33dbc9e1c8843ab88208a7d96e9687c": {
     "views": [
      {
       "cell_index": 1
      }
     ]
    }
   },
   "version": "1.2.0"
  }
 },
 "nbformat": 4,
 "nbformat_minor": 2
}
