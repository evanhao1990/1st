{
 "cells": [
  {
   "cell_type": "code",
   "execution_count": 16,
   "metadata": {},
   "outputs": [],
   "source": [
    "from googleapiclient.discovery import build\n",
    "from google.oauth2 import service_account\n",
    "import os\n",
    "import logging\n",
    "import numpy as np\n",
    "import pandas as pd\n",
    "from datetime import date\n",
    "from dateutil.relativedelta import *\n",
    "\n",
    "\n",
    "scopes = ['https://www.googleapis.com/auth/analytics.edit']\n",
    "key_path = 'C:\\ecommerce\\keys\\ga_service_account.json'\n",
    "credentials = service_account.Credentials.from_service_account_file(key_path, scopes=scopes)\n",
    "service = build('analytics', 'v3', credentials=credentials)"
   ]
  },
  {
   "cell_type": "markdown",
   "metadata": {},
   "source": [
    "## Filter\n",
    "\n",
    "Quick intro:\n",
    "Filters belong to the main account (Bestseller Universal)\n",
    "\n",
    "After setting up a __filter__, we can then link any profiles with the filter using __filterlinks__"
   ]
  },
  {
   "cell_type": "markdown",
   "metadata": {},
   "source": [
    "#### List all filters within Bestseller (Universal)"
   ]
  },
  {
   "cell_type": "code",
   "execution_count": 28,
   "metadata": {},
   "outputs": [],
   "source": [
    "filters = service.management().filters().list(accountId='66188758').execute()"
   ]
  },
  {
   "cell_type": "code",
   "execution_count": 57,
   "metadata": {},
   "outputs": [
    {
     "data": {
      "text/plain": [
       "[{'id': '22488494',\n",
       "  'kind': 'analytics#filter',\n",
       "  'selfLink': 'https://www.googleapis.com/analytics/v3/management/accounts/66188758/filters/22488494',\n",
       "  'accountId': '66188758',\n",
       "  'name': 'CountryCode = NLD',\n",
       "  'type': 'INCLUDE',\n",
       "  'created': '2015-08-11T13:47:32.257Z',\n",
       "  'updated': '2015-08-13T12:33:56.849Z',\n",
       "  'parentLink': {'type': 'analytics#account',\n",
       "   'href': 'https://www.googleapis.com/analytics/v3/management/accounts/66188758'},\n",
       "  'includeDetails': {'kind': 'analytics#filterExpression',\n",
       "   'field': 'CUSTOM_DIMENSION',\n",
       "   'matchType': 'MATCHES',\n",
       "   'expressionValue': 'NLD',\n",
       "   'caseSensitive': False,\n",
       "   'fieldIndex': 1}},\n",
       " {'id': '22526432',\n",
       "  'kind': 'analytics#filter',\n",
       "  'selfLink': 'https://www.googleapis.com/analytics/v3/management/accounts/66188758/filters/22526432',\n",
       "  'accountId': '66188758',\n",
       "  'name': 'CountryCode = DEU',\n",
       "  'type': 'INCLUDE',\n",
       "  'created': '2015-08-11T13:44:35.833Z',\n",
       "  'updated': '2015-08-13T12:33:16.673Z',\n",
       "  'parentLink': {'type': 'analytics#account',\n",
       "   'href': 'https://www.googleapis.com/analytics/v3/management/accounts/66188758'},\n",
       "  'includeDetails': {'kind': 'analytics#filterExpression',\n",
       "   'field': 'CUSTOM_DIMENSION',\n",
       "   'matchType': 'MATCHES',\n",
       "   'expressionValue': 'DEU',\n",
       "   'caseSensitive': False,\n",
       "   'fieldIndex': 1}}]"
      ]
     },
     "execution_count": 57,
     "metadata": {},
     "output_type": "execute_result"
    }
   ],
   "source": [
    "filters.get('items')[:2]"
   ]
  },
  {
   "cell_type": "markdown",
   "metadata": {},
   "source": [
    "#### List all filterlinks for a profile(view)"
   ]
  },
  {
   "cell_type": "code",
   "execution_count": 65,
   "metadata": {
    "scrolled": true
   },
   "outputs": [
    {
     "data": {
      "text/plain": [
       "{'id': '124459602:26133671',\n",
       " 'kind': 'analytics#profileFilterLink',\n",
       " 'selfLink': 'https://www.googleapis.com/analytics/v3/management/accounts/66188758/webproperties/UA-66188758-47/profiles/124459602/profileFilterLinks/124459602:26133671',\n",
       " 'rank': 1,\n",
       " 'profileRef': {'id': '124459602',\n",
       "  'kind': 'analytics#profileRef',\n",
       "  'href': 'https://www.googleapis.com/analytics/v3/management/accounts/66188758/webproperties/UA-66188758-47/profiles/124459602',\n",
       "  'accountId': '66188758',\n",
       "  'webPropertyId': 'UA-66188758-47',\n",
       "  'internalWebPropertyId': '118921627',\n",
       "  'name': 'A - Web, BI - Overview (1 User ID)'},\n",
       " 'filterRef': {'id': '26133671',\n",
       "  'kind': 'analytics#filterRef',\n",
       "  'href': 'https://www.googleapis.com/analytics/v3/management/accounts/66188758/filters/26133671',\n",
       "  'accountId': '66188758',\n",
       "  'name': 'Exclude Bestseller Traffic 83.151.148'}}"
      ]
     },
     "execution_count": 65,
     "metadata": {},
     "output_type": "execute_result"
    }
   ],
   "source": [
    "filterLinks = service.management().profileFilterLinks().list(accountId='66188758',webPropertyId='UA-66188758-47',profileId='124459602').execute()\n",
    "    \n",
    "filterLinks.get('items')[0]"
   ]
  },
  {
   "cell_type": "code",
   "execution_count": 66,
   "metadata": {},
   "outputs": [
    {
     "name": "stdout",
     "output_type": "stream",
     "text": [
      "A - Web, BI - Overview (1 User ID)\n",
      "    Exclude Bestseller Traffic 83.151.148\n",
      "    Exclude QuantAds Traffic\n",
      "    Exclude Site Confidence Browser Bot\n",
      "    Exclude Bestseller Traffic 185.9.141\n",
      "    Exclude Bestseller 80.197.218.183\n",
      "    Exclude Ikwilbovenaan\n"
     ]
    }
   ],
   "source": [
    "# quick view of what filters are linked to \"A - Web, BI - Overview (1 User ID)\"\n",
    "print(filterLinks.get('items')[0].get('profileRef').get('name'))\n",
    "for f in filterLinks.get('items'):\n",
    "    print('    '+f.get('filterRef').get('name'))"
   ]
  },
  {
   "cell_type": "code",
   "execution_count": 59,
   "metadata": {},
   "outputs": [],
   "source": [
    "# loop through all profiles within a property if needed\n",
    "# profiles = service.management().profiles().list(accountId='66188758', webPropertyId='UA-66188758-47').execute()\n",
    "# profiles_views = profiles.get('items')\n",
    "# viewid_list = [x.get('id') for x in profiles_views]\n",
    "\n",
    "# for ids in viewid_list[:5]:\n",
    "#     filterLinks = service.management().profileFilterLinks().list(accountId='66188758',webPropertyId='UA-66188758-47',profileId=ids).execute()\n",
    "    \n",
    "#     print(filterLinks.get('items')[0].get('profileRef').get('name'))\n",
    "#     for f in filterLinks.get('items'):\n",
    "#         print('    '+f.get('filterRef').get('name'))"
   ]
  },
  {
   "cell_type": "markdown",
   "metadata": {},
   "source": [
    "### Setting up a filter"
   ]
  },
  {
   "cell_type": "markdown",
   "metadata": {},
   "source": [
    "##### A. Include"
   ]
  },
  {
   "cell_type": "code",
   "execution_count": 67,
   "metadata": {
    "scrolled": false
   },
   "outputs": [
    {
     "data": {
      "text/plain": [
       "{'id': '79756145',\n",
       " 'kind': 'analytics#filter',\n",
       " 'selfLink': 'https://www.googleapis.com/analytics/v3/management/accounts/66188758/filters/79756145',\n",
       " 'accountId': '66188758',\n",
       " 'name': 'Include Hao',\n",
       " 'type': 'INCLUDE',\n",
       " 'created': '2020-02-25T14:18:32.329Z',\n",
       " 'updated': '2020-02-25T14:18:32.329Z',\n",
       " 'parentLink': {'type': 'analytics#account',\n",
       "  'href': 'https://www.googleapis.com/analytics/v3/management/accounts/66188758'},\n",
       " 'includeDetails': {'kind': 'analytics#filterExpression',\n",
       "  'field': 'PAGE_TITLE',\n",
       "  'matchType': 'MATCHES',\n",
       "  'expressionValue': 'Hao',\n",
       "  'caseSensitive': False}}"
      ]
     },
     "execution_count": 67,
     "metadata": {},
     "output_type": "execute_result"
    }
   ],
   "source": [
    "service.management().filters().insert(\n",
    "      accountId='66188758',\n",
    "      body={\n",
    "          'name': 'Include Hao',\n",
    "          'type': 'INCLUDE',\n",
    "          'includeDetails': {\n",
    "              'field': 'PAGE_TITLE',\n",
    "              'matchType': 'MATCHES',\n",
    "              'expressionValue': 'Hao',\n",
    "              'caseSensitive': False\n",
    "              }\n",
    "      }\n",
    "  ).execute()"
   ]
  },
  {
   "cell_type": "markdown",
   "metadata": {},
   "source": [
    "##### B. Exclude"
   ]
  },
  {
   "cell_type": "code",
   "execution_count": 50,
   "metadata": {},
   "outputs": [
    {
     "data": {
      "text/plain": [
       "{'id': '79709298',\n",
       " 'kind': 'analytics#filter',\n",
       " 'selfLink': 'https://www.googleapis.com/analytics/v3/management/accounts/66188758/filters/79709298',\n",
       " 'accountId': '66188758',\n",
       " 'name': 'Exclude Hao',\n",
       " 'type': 'EXCLUDE',\n",
       " 'created': '2020-02-25T13:47:56.546Z',\n",
       " 'updated': '2020-02-25T13:47:56.546Z',\n",
       " 'parentLink': {'type': 'analytics#account',\n",
       "  'href': 'https://www.googleapis.com/analytics/v3/management/accounts/66188758'},\n",
       " 'excludeDetails': {'kind': 'analytics#filterExpression',\n",
       "  'field': 'PAGE_TITLE',\n",
       "  'matchType': 'MATCHES',\n",
       "  'expressionValue': 'Hao',\n",
       "  'caseSensitive': False}}"
      ]
     },
     "execution_count": 50,
     "metadata": {},
     "output_type": "execute_result"
    }
   ],
   "source": [
    "service.management().filters().insert(\n",
    "      accountId='66188758',\n",
    "      body={\n",
    "          'name': 'Exclude Hao',\n",
    "          'type': 'EXCLUDE',\n",
    "          'excludeDetails': {\n",
    "              'field': 'PAGE_TITLE',\n",
    "              'matchType': 'MATCHES',\n",
    "              'expressionValue': 'Hao',\n",
    "              'caseSensitive': False\n",
    "              }\n",
    "      }\n",
    "  ).execute()"
   ]
  },
  {
   "cell_type": "markdown",
   "metadata": {},
   "source": [
    "#### Insering a filterlink ( link a profile to a filter)"
   ]
  },
  {
   "cell_type": "code",
   "execution_count": 70,
   "metadata": {},
   "outputs": [
    {
     "data": {
      "text/plain": [
       "{'id': '124459602:79756145',\n",
       " 'kind': 'analytics#profileFilterLink',\n",
       " 'selfLink': 'https://www.googleapis.com/analytics/v3/management/accounts/66188758/webproperties/UA-66188758-47/profiles/124459602/profileFilterLinks/124459602:79756145',\n",
       " 'rank': 8,\n",
       " 'profileRef': {'id': '124459602',\n",
       "  'kind': 'analytics#profileRef',\n",
       "  'href': 'https://www.googleapis.com/analytics/v3/management/accounts/66188758/webproperties/UA-66188758-47/profiles/124459602',\n",
       "  'accountId': '66188758',\n",
       "  'webPropertyId': 'UA-66188758-47',\n",
       "  'internalWebPropertyId': '118921627',\n",
       "  'name': 'A - Web, BI - Overview (1 User ID)'},\n",
       " 'filterRef': {'id': '79756145',\n",
       "  'kind': 'analytics#filterRef',\n",
       "  'href': 'https://www.googleapis.com/analytics/v3/management/accounts/66188758/filters/79756145',\n",
       "  'accountId': '66188758',\n",
       "  'name': 'Include Hao'}}"
      ]
     },
     "execution_count": 70,
     "metadata": {},
     "output_type": "execute_result"
    }
   ],
   "source": [
    "service.management().profileFilterLinks().insert(\n",
    "      accountId='66188758',\n",
    "      webPropertyId='UA-66188758-47',\n",
    "      profileId='124459602',\n",
    "    \n",
    "      body={\n",
    "          'filterRef': {\n",
    "              'id': '79756145'\n",
    "          }\n",
    "      }\n",
    "  ).execute()"
   ]
  },
  {
   "cell_type": "code",
   "execution_count": 71,
   "metadata": {},
   "outputs": [
    {
     "name": "stdout",
     "output_type": "stream",
     "text": [
      "A - Web, BI - Overview (1 User ID)\n",
      "    Exclude Bestseller Traffic 83.151.148\n",
      "    Exclude QuantAds Traffic\n",
      "    Exclude Site Confidence Browser Bot\n",
      "    Exclude Bestseller Traffic 185.9.141\n",
      "    Exclude Bestseller 80.197.218.183\n",
      "    Exclude Ikwilbovenaan\n",
      "    Exclude Hao\n",
      "    Include Hao\n"
     ]
    }
   ],
   "source": [
    "# check if the filters above are linked successfully\n",
    "filterLinks = service.management().profileFilterLinks().list(accountId='66188758'\n",
    "                                                             ,webPropertyId='UA-66188758-47'\n",
    "                                                             ,profileId='124459602').execute()\n",
    "    \n",
    "print(filterLinks.get('items')[0].get('profileRef').get('name'))\n",
    "for f in filterLinks.get('items'):\n",
    "    print('    '+f.get('filterRef').get('name'))"
   ]
  },
  {
   "cell_type": "markdown",
   "metadata": {},
   "source": [
    "#### Deleting a filterlink using filterlink id"
   ]
  },
  {
   "cell_type": "code",
   "execution_count": 64,
   "metadata": {},
   "outputs": [
    {
     "data": {
      "text/plain": [
       "b'{}\\n'"
      ]
     },
     "execution_count": 64,
     "metadata": {},
     "output_type": "execute_result"
    }
   ],
   "source": [
    "service.management().profileFilterLinks().delete(\n",
    "      accountId='66188758',\n",
    "      webPropertyId='UA-66188758-47',\n",
    "      profileId='124459602',\n",
    "      linkId='124459602:79709298'  # the filterlink id of Exclude Hao\n",
    "  ).execute()"
   ]
  },
  {
   "cell_type": "markdown",
   "metadata": {},
   "source": [
    "## Profiles(View)"
   ]
  },
  {
   "cell_type": "markdown",
   "metadata": {},
   "source": [
    "#### Delete a profile"
   ]
  },
  {
   "cell_type": "code",
   "execution_count": 72,
   "metadata": {},
   "outputs": [
    {
     "data": {
      "text/plain": [
       "b'{}\\n'"
      ]
     },
     "execution_count": 72,
     "metadata": {},
     "output_type": "execute_result"
    }
   ],
   "source": [
    "service.management().profiles().delete(\n",
    "      accountId='66188758',\n",
    "      webPropertyId='UA-66188758-47',\n",
    "      profileId='124415978').execute()"
   ]
  },
  {
   "cell_type": "markdown",
   "metadata": {},
   "source": [
    "#### Insert a profile"
   ]
  },
  {
   "cell_type": "code",
   "execution_count": 74,
   "metadata": {},
   "outputs": [
    {
     "data": {
      "text/plain": [
       "{'id': '212110297',\n",
       " 'kind': 'analytics#profile',\n",
       " 'selfLink': 'https://www.googleapis.com/analytics/v3/management/accounts/66188758/webproperties/UA-66188758-47/profiles/212110297',\n",
       " 'accountId': '66188758',\n",
       " 'webPropertyId': 'UA-66188758-47',\n",
       " 'internalWebPropertyId': '118921627',\n",
       " 'name': 'B - Web, BI - Finland (test)',\n",
       " 'currency': 'USD',\n",
       " 'timezone': 'America/Los_Angeles',\n",
       " 'websiteUrl': 'http://bianco.com',\n",
       " 'type': 'WEB',\n",
       " 'permissions': {'effective': ['COLLABORATE',\n",
       "   'EDIT',\n",
       "   'MANAGE_USERS',\n",
       "   'READ_AND_ANALYZE']},\n",
       " 'created': '2020-02-25T16:28:06.888Z',\n",
       " 'updated': '2020-02-25T16:28:06.888Z',\n",
       " 'eCommerceTracking': True,\n",
       " 'botFilteringEnabled': True,\n",
       " 'parentLink': {'type': 'analytics#webproperty',\n",
       "  'href': 'https://www.googleapis.com/analytics/v3/management/accounts/66188758/webproperties/UA-66188758-47'},\n",
       " 'childLink': {'type': 'analytics#goals',\n",
       "  'href': 'https://www.googleapis.com/analytics/v3/management/accounts/66188758/webproperties/UA-66188758-47/profiles/212110297/goals'}}"
      ]
     },
     "execution_count": 74,
     "metadata": {},
     "output_type": "execute_result"
    }
   ],
   "source": [
    "# example code, probably need more detail info in body part.\n",
    "service.management().profiles().insert(\n",
    "      accountId='66188758',\n",
    "      webPropertyId='UA-66188758-47',\n",
    "      body={\n",
    "          'name': 'B - Web, BI - Finland (test)',\n",
    "          'eCommerceTracking': True,\n",
    "      }\n",
    "  ).execute()"
   ]
  },
  {
   "cell_type": "code",
   "execution_count": null,
   "metadata": {},
   "outputs": [],
   "source": []
  }
 ],
 "metadata": {
  "kernelspec": {
   "display_name": "Python 3",
   "language": "python",
   "name": "python3"
  },
  "language_info": {
   "codemirror_mode": {
    "name": "ipython",
    "version": 3
   },
   "file_extension": ".py",
   "mimetype": "text/x-python",
   "name": "python",
   "nbconvert_exporter": "python",
   "pygments_lexer": "ipython3",
   "version": "3.7.0"
  }
 },
 "nbformat": 4,
 "nbformat_minor": 2
}
