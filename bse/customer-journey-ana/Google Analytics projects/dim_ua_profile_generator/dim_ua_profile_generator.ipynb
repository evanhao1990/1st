{
 "cells": [
  {
   "cell_type": "markdown",
   "metadata": {},
   "source": [
    "## Brief Intro\n",
    "Normally the structure of GA tables is:\n",
    "\n",
    "    Account --> Property --> View \n",
    "    \n",
    "A real example would be:\n",
    "\n",
    "    Bestseller (Universal) --> 1 - Web - Brand - Only --> A - Web, ON - Overview(3 Non-User ID)\n",
    "    \n",
    "    To understand better you can visit https://ga-dev-tools.appspot.com/account-explorer/ and login in with GA account\n",
    "    \n",
    "What we do to get dim_ua_profile table:\n",
    "    \n",
    "    Firstly we loop through all the Properties within the main account (Bestseller (Universal)) to get information related with all the views under each Property. \n",
    "    \n",
    "    Secondly we filter for the Views' profiles we want -- we only need brand-country level Views to pull data from.\n",
    "    \n",
    "    Thirdly we add more columns with information we need -- sitebrand, sitecountry, table_updated_time and etc.."
   ]
  },
  {
   "cell_type": "markdown",
   "metadata": {},
   "source": [
    "#### Example information inside a \"Property\" segment"
   ]
  },
  {
   "cell_type": "code",
   "execution_count": 127,
   "metadata": {
    "collapsed": true
   },
   "outputs": [
    {
     "data": {
      "text/plain": [
       "[{'id': 'UA-66188758-1',\n",
       "  'kind': 'analytics#webproperty',\n",
       "  'selfLink': 'https://www.googleapis.com/analytics/v3/management/accounts/66188758/webproperties/UA-66188758-1',\n",
       "  'accountId': '66188758',\n",
       "  'internalWebPropertyId': '102587179',\n",
       "  'name': '3 - App - Brand - Bestseller.com',\n",
       "  'level': 'PREMIUM',\n",
       "  'profileCount': 15,\n",
       "  'industryVertical': 'SHOPPING',\n",
       "  'defaultProfileId': '106630793',\n",
       "  'dataRetentionTtl': 'INDEFINITE',\n",
       "  'dataRetentionResetOnNewActivity': True,\n",
       "  'permissions': {'effective': ['COLLABORATE', 'EDIT', 'READ_AND_ANALYZE']},\n",
       "  'created': '2015-08-11T11:55:30.584Z',\n",
       "  'updated': '2019-09-10T21:09:41.449Z',\n",
       "  'parentLink': {'type': 'analytics#account',\n",
       "   'href': 'https://www.googleapis.com/analytics/v3/management/accounts/66188758'},\n",
       "  'childLink': {'type': 'analytics#profiles',\n",
       "   'href': 'https://www.googleapis.com/analytics/v3/management/accounts/66188758/webproperties/UA-66188758-1/profiles'}},\n",
       " {'id': 'UA-66188758-2',\n",
       "  'kind': 'analytics#webproperty',\n",
       "  'selfLink': 'https://www.googleapis.com/analytics/v3/management/accounts/66188758/webproperties/UA-66188758-2',\n",
       "  'accountId': '66188758',\n",
       "  'internalWebPropertyId': '102607226',\n",
       "  'name': '3 - App - Brand - Jack & Jones',\n",
       "  'websiteUrl': '--',\n",
       "  'level': 'PREMIUM',\n",
       "  'profileCount': 15,\n",
       "  'industryVertical': 'SHOPPING',\n",
       "  'defaultProfileId': '106648945',\n",
       "  'dataRetentionTtl': 'INDEFINITE',\n",
       "  'dataRetentionResetOnNewActivity': True,\n",
       "  'permissions': {'effective': ['COLLABORATE', 'EDIT', 'READ_AND_ANALYZE']},\n",
       "  'created': '2015-08-11T12:35:25.838Z',\n",
       "  'updated': '2019-09-10T21:07:37.068Z',\n",
       "  'parentLink': {'type': 'analytics#account',\n",
       "   'href': 'https://www.googleapis.com/analytics/v3/management/accounts/66188758'},\n",
       "  'childLink': {'type': 'analytics#profiles',\n",
       "   'href': 'https://www.googleapis.com/analytics/v3/management/accounts/66188758/webproperties/UA-66188758-2/profiles'}}]"
      ]
     },
     "execution_count": 127,
     "metadata": {},
     "output_type": "execute_result"
    }
   ],
   "source": [
    "# first 2 properties in Bestseller (Universal)\n",
    "analytics.management().webproperties().list(accountId=66188758).execute().get('items')[:2]"
   ]
  },
  {
   "cell_type": "markdown",
   "metadata": {},
   "source": [
    "#### Example information inside a \"View\" segment"
   ]
  },
  {
   "cell_type": "code",
   "execution_count": 129,
   "metadata": {
    "collapsed": true
   },
   "outputs": [
    {
     "data": {
      "text/plain": [
       "[{'id': '106630793',\n",
       "  'kind': 'analytics#profile',\n",
       "  'selfLink': 'https://www.googleapis.com/analytics/v3/management/accounts/66188758/webproperties/UA-66188758-1/profiles/106630793',\n",
       "  'accountId': '66188758',\n",
       "  'webPropertyId': 'UA-66188758-1',\n",
       "  'internalWebPropertyId': '102587179',\n",
       "  'name': 'A - App, BC - Overview',\n",
       "  'currency': 'EUR',\n",
       "  'timezone': 'Europe/Copenhagen',\n",
       "  'websiteUrl': '--',\n",
       "  'defaultPage': '--',\n",
       "  'type': 'APP',\n",
       "  'permissions': {'effective': ['COLLABORATE', 'EDIT', 'READ_AND_ANALYZE']},\n",
       "  'created': '2015-08-11T11:55:30.584Z',\n",
       "  'updated': '2018-05-31T07:02:15.931Z',\n",
       "  'eCommerceTracking': False,\n",
       "  'botFilteringEnabled': True,\n",
       "  'parentLink': {'type': 'analytics#webproperty',\n",
       "   'href': 'https://www.googleapis.com/analytics/v3/management/accounts/66188758/webproperties/UA-66188758-1'},\n",
       "  'childLink': {'type': 'analytics#goals',\n",
       "   'href': 'https://www.googleapis.com/analytics/v3/management/accounts/66188758/webproperties/UA-66188758-1/profiles/106630793/goals'}},\n",
       " {'id': '106645875',\n",
       "  'kind': 'analytics#profile',\n",
       "  'selfLink': 'https://www.googleapis.com/analytics/v3/management/accounts/66188758/webproperties/UA-66188758-1/profiles/106645875',\n",
       "  'accountId': '66188758',\n",
       "  'webPropertyId': 'UA-66188758-1',\n",
       "  'internalWebPropertyId': '102587179',\n",
       "  'name': 'B - App, BC - United Kingdom',\n",
       "  'currency': 'GBP',\n",
       "  'timezone': 'Etc/GMT',\n",
       "  'websiteUrl': '--',\n",
       "  'defaultPage': '--',\n",
       "  'type': 'APP',\n",
       "  'permissions': {'effective': ['COLLABORATE', 'EDIT', 'READ_AND_ANALYZE']},\n",
       "  'created': '2015-08-11T13:33:34.182Z',\n",
       "  'updated': '2018-05-31T07:02:15.931Z',\n",
       "  'eCommerceTracking': False,\n",
       "  'botFilteringEnabled': True,\n",
       "  'parentLink': {'type': 'analytics#webproperty',\n",
       "   'href': 'https://www.googleapis.com/analytics/v3/management/accounts/66188758/webproperties/UA-66188758-1'},\n",
       "  'childLink': {'type': 'analytics#goals',\n",
       "   'href': 'https://www.googleapis.com/analytics/v3/management/accounts/66188758/webproperties/UA-66188758-1/profiles/106645875/goals'}}]"
      ]
     },
     "execution_count": 129,
     "metadata": {},
     "output_type": "execute_result"
    }
   ],
   "source": [
    "# first 2 Views in '3 - App - Brand - Bestseller.com'\n",
    "analytics.management().profiles().list(accountId='66188758',webPropertyId='UA-66188758-1').execute().get('items')[:2]"
   ]
  },
  {
   "cell_type": "markdown",
   "metadata": {},
   "source": [
    "## Main"
   ]
  },
  {
   "cell_type": "code",
   "execution_count": 102,
   "metadata": {},
   "outputs": [],
   "source": [
    "from apiclient.discovery import build\n",
    "from google.oauth2 import service_account\n",
    "import pandas as pd\n",
    "from datetime import datetime\n",
    "\n",
    "# initial setting\n",
    "SERVICE_ACCOUNT_FILE = 'C:\\\\Users\\\\hao.zhang\\\\Desktop\\\\hao.zhang\\\\Python\\\\ga-service-account\\\\account\\\\service_account.json'\n",
    "scopes = ['https://www.googleapis.com/auth/analytics']\n",
    "\n",
    "# authorization and connect\n",
    "credentials = service_account.Credentials.from_service_account_file(SERVICE_ACCOUNT_FILE, scopes=scopes)\n",
    "analytics = build('analytics', 'v3', credentials=credentials)\n",
    "properties = analytics.management().webproperties().list(accountId=66188758).execute()"
   ]
  },
  {
   "cell_type": "code",
   "execution_count": 107,
   "metadata": {
    "scrolled": false
   },
   "outputs": [],
   "source": [
    "# looping through all properties and views\n",
    "df_all = pd.DataFrame()\n",
    "\n",
    "# for each property\n",
    "for item in properties.get('items'):\n",
    "    \n",
    "    pname = item['name']                  # property name\n",
    "\n",
    "    if  pname == 'Roll-Up Property':     \n",
    "        psource = 'N/A'                   # get property source (app or web) and type (brand or market)\n",
    "        ptype = 'N/A'\n",
    "    else:\n",
    "        psource = pname.split(' ')[2]\n",
    "        ptype = pname.split(' ')[4]\n",
    "\n",
    "    pid = item['id']                      # property id\n",
    "    \n",
    "    # get all profiles in this property\n",
    "    profiles = analytics.management().profiles().list(\n",
    "                    accountId='66188758',\n",
    "                    webPropertyId=pid).execute()\n",
    "    \n",
    "    uaid = [prf['id'] for prf in profiles.get('items')]               # list of all profile id\n",
    "    name = [prf['name'] for prf in profiles.get('items')]             # list of all profile name\n",
    "    created = [prf['created'] for prf in profiles.get('items')]       # list of all profile created time\n",
    "    \n",
    "    # put into dataframe\n",
    "    df = pd.DataFrame({'ua_profile_id':uaid,\n",
    "                       'name':name,\n",
    "                       'profile_created_time':created,\n",
    "                       'property_name':pname,\n",
    "                       'property_source':psource,\n",
    "                       'property_type':ptype})\n",
    "    \n",
    "    df_all = df_all.append(df)"
   ]
  },
  {
   "cell_type": "code",
   "execution_count": 116,
   "metadata": {},
   "outputs": [
    {
     "name": "stdout",
     "output_type": "stream",
     "text": [
      "  ua_profile_id                          name      profile_created_time  \\\n",
      "0     106630793        A - App, BC - Overview  2015-08-11T11:55:30.584Z   \n",
      "1     106645875  B - App, BC - United Kingdom  2015-08-11T13:33:34.182Z   \n",
      "2     106647798     B - App, BC - Switzerland  2015-08-11T13:31:30.987Z   \n",
      "3     106649030         B - App, BC - Denmark  2015-08-11T12:27:21.853Z   \n",
      "4     106649048         B - App, BC - Belgium  2015-08-11T13:29:32.991Z   \n",
      "\n",
      "                      property_name property_source property_type level  \n",
      "0  3 - App - Brand - Bestseller.com             App         Brand     A  \n",
      "1  3 - App - Brand - Bestseller.com             App         Brand     B  \n",
      "2  3 - App - Brand - Bestseller.com             App         Brand     B  \n",
      "3  3 - App - Brand - Bestseller.com             App         Brand     B  \n",
      "4  3 - App - Brand - Bestseller.com             App         Brand     B  \n"
     ]
    }
   ],
   "source": [
    "print(df_all.head())"
   ]
  },
  {
   "cell_type": "code",
   "execution_count": 118,
   "metadata": {},
   "outputs": [],
   "source": [
    "# filter out profiles that we don't need \n",
    "# aggregate level = 'B', property_type = 'Brand' and profile name does not contain \"User\"\n",
    "df_all['level'] = df_all['name'].str.split(' ').str[0]\n",
    "df_dim_profile = df_all.loc[df_all.level=='B'].copy()\n",
    "df_dim_profile = df_dim_profile.loc[df_dim_profile['name'].str.find('User')<=0]\n",
    "df_dim_profile = df_dim_profile.loc[df_dim_profile['property_type']=='Brand']\n",
    "\n",
    "# add additional information\n",
    "df_dim_profile['site_brand'] = df_dim_profile['name'].str.split(',').str[1].str.split(' ').str[1]\n",
    "df_dim_profile['site_country'] = df_dim_profile['name'].str.split('-').str[-1].str.strip()\n",
    "df_dim_profile['table_updated_time'] = datetime.now()\n",
    "df_dim_profile['dim_ua_profile_id'] = df_dim_profile.index"
   ]
  },
  {
   "cell_type": "code",
   "execution_count": 119,
   "metadata": {},
   "outputs": [
    {
     "name": "stdout",
     "output_type": "stream",
     "text": [
      "   dim_ua_profile_id ua_profile_id property_source site_brand    site_country  \\\n",
      "1                  1     106645875             App         BC  United Kingdom   \n",
      "2                  2     106647798             App         BC     Switzerland   \n",
      "3                  3     106649030             App         BC         Denmark   \n",
      "4                  4     106649048             App         BC         Belgium   \n",
      "5                  5     106649454             App         BC         Ireland   \n",
      "\n",
      "  property_type level                          name  \\\n",
      "1         Brand     B  B - App, BC - United Kingdom   \n",
      "2         Brand     B     B - App, BC - Switzerland   \n",
      "3         Brand     B         B - App, BC - Denmark   \n",
      "4         Brand     B         B - App, BC - Belgium   \n",
      "5         Brand     B         B - App, BC - Ireland   \n",
      "\n",
      "                      property_name      profile_created_time  \\\n",
      "1  3 - App - Brand - Bestseller.com  2015-08-11T13:33:34.182Z   \n",
      "2  3 - App - Brand - Bestseller.com  2015-08-11T13:31:30.987Z   \n",
      "3  3 - App - Brand - Bestseller.com  2015-08-11T12:27:21.853Z   \n",
      "4  3 - App - Brand - Bestseller.com  2015-08-11T13:29:32.991Z   \n",
      "5  3 - App - Brand - Bestseller.com  2015-08-11T13:34:56.432Z   \n",
      "\n",
      "          table_updated_time  \n",
      "1 2020-01-27 14:08:23.497178  \n",
      "2 2020-01-27 14:08:23.497178  \n",
      "3 2020-01-27 14:08:23.497178  \n",
      "4 2020-01-27 14:08:23.497178  \n",
      "5 2020-01-27 14:08:23.497178  \n"
     ]
    }
   ],
   "source": [
    "# reorder columns\n",
    "df_dim_profile = df_dim_profile[['dim_ua_profile_id','ua_profile_id','property_source','site_brand',\n",
    "                                 'site_country','property_type','level','name','property_name',\n",
    "                                 'profile_created_time','table_updated_time']]\n",
    "print(df_dim_profile.head())"
   ]
  },
  {
   "cell_type": "code",
   "execution_count": 2,
   "metadata": {},
   "outputs": [
    {
     "name": "stderr",
     "output_type": "stream",
     "text": [
      "[NbConvertApp] Converting notebook dim_ua_profile_generator.ipynb to markdown\n",
      "[NbConvertApp] Writing 11306 bytes to dim_ua_profile_generator.md\n"
     ]
    }
   ],
   "source": [
    "!jupyter nbconvert --to markdown \"dim_ua_profile_generator.ipynb\""
   ]
  }
 ],
 "metadata": {
  "kernelspec": {
   "display_name": "Python 3",
   "language": "python",
   "name": "python3"
  },
  "language_info": {
   "codemirror_mode": {
    "name": "ipython",
    "version": 3
   },
   "file_extension": ".py",
   "mimetype": "text/x-python",
   "name": "python",
   "nbconvert_exporter": "python",
   "pygments_lexer": "ipython3",
   "version": "3.7.0"
  }
 },
 "nbformat": 4,
 "nbformat_minor": 2
}
