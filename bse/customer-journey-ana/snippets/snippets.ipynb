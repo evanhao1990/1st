{
 "cells": [
  {
   "cell_type": "code",
   "execution_count": 1,
   "metadata": {},
   "outputs": [],
   "source": [
    "import numpy as np\n",
    "from dateutil.relativedelta import *\n",
    "from datetime import date"
   ]
  },
  {
   "cell_type": "markdown",
   "metadata": {},
   "source": [
    "In case we need to force the GA API call to once per day:"
   ]
  },
  {
   "cell_type": "code",
   "execution_count": 2,
   "metadata": {},
   "outputs": [
    {
     "data": {
      "text/plain": [
       "['2020-02-25',\n",
       " '2020-02-24',\n",
       " '2020-02-23',\n",
       " '2020-02-22',\n",
       " '2020-02-21',\n",
       " '2020-02-20',\n",
       " '2020-02-19']"
      ]
     },
     "execution_count": 2,
     "metadata": {},
     "output_type": "execute_result"
    }
   ],
   "source": [
    "d0 = date(2020,2,19)\n",
    "d1 = date(2020,2,25)\n",
    "\n",
    "\n",
    "def explode(d0,d1):\n",
    "    delta = d1 - d0\n",
    "    dates = [(d1 - relativedelta(days=int(n))).strftime(\"%Y-%m-%d\") for n in np.arange(delta.days+1)]\n",
    "    return dates\n",
    "\n",
    "d = explode(d0,d1)\n",
    "d"
   ]
  }
 ],
 "metadata": {
  "kernelspec": {
   "display_name": "Python 3",
   "language": "python",
   "name": "python3"
  },
  "language_info": {
   "codemirror_mode": {
    "name": "ipython",
    "version": 3
   },
   "file_extension": ".py",
   "mimetype": "text/x-python",
   "name": "python",
   "nbconvert_exporter": "python",
   "pygments_lexer": "ipython3",
   "version": "3.7.0"
  }
 },
 "nbformat": 4,
 "nbformat_minor": 2
}
