{
 "cells": [
  {
   "cell_type": "markdown",
   "metadata": {},
   "source": [
    "### Audience"
   ]
  },
  {
   "cell_type": "markdown",
   "metadata": {},
   "source": [
    "#### Sample code from Google Ads"
   ]
  },
  {
   "cell_type": "code",
   "execution_count": 11,
   "metadata": {},
   "outputs": [],
   "source": [
    "\"\"\"Adds a user list and populates it with hashed email addresses.\n",
    "\n",
    "Note: It may take several hours for the list to be populated with members. Email\n",
    "addresses must be associated with a Google account. For privacy purposes, the\n",
    "user list size will show as zero until the list has at least 1000 members. After\n",
    "that, the size will be rounded to the two most significant digits.\n",
    "\"\"\"\n",
    "\n",
    "\n",
    "import hashlib\n",
    "import uuid\n",
    "import locale\n",
    "import sys\n",
    "import _locale\n",
    "\n",
    "_locale._getdefaultlocale = (lambda *args: ['en_US', 'UTF-8'])\n",
    "# Import appropriate modules from the client library.\n",
    "from googleads import adwords\n",
    "\n",
    "\n",
    "def main(client):\n",
    "  # Initialize appropriate services.\n",
    "    user_list_service = client.GetService('AdwordsUserListService', 'v201809')\n",
    "\n",
    "    user_list = {\n",
    "      'xsi_type': 'CrmBasedUserList',\n",
    "      'name': 'CJ testing audiences #%d' % uuid.uuid4(),\n",
    "      'description': 'CJ testing audiences',\n",
    "      # CRM-based user lists can use a membershipLifeSpan of 10000 to indicate\n",
    "      # unlimited; otherwise normal values apply.\n",
    "      'membershipLifeSpan': 30,\n",
    "      'uploadKeyType': 'CONTACT_INFO'\n",
    "  }\n",
    "\n",
    "  # Create an operation to add the user list.\n",
    "    operations = [{\n",
    "      'operator': 'ADD',\n",
    "      'operand': user_list\n",
    "    }]\n",
    "\n",
    "    result = user_list_service.mutate(operations)\n",
    "    user_list_id = result['value'][0]['id']\n",
    "\n",
    "    emails = ['evanhao1990@gmail.com']\n",
    "    members = [{'hashedEmail': NormalizeAndSHA256(email)} for email in emails]\n",
    "\n",
    "  # Add address info.\n",
    "    members.append({\n",
    "      'addressInfo': {\n",
    "          # First and last name must be normalized and hashed.\n",
    "          'hashedFirstName': NormalizeAndSHA256('Hao'),\n",
    "          'hashedLastName': NormalizeAndSHA256('Zhang'),\n",
    "          # Country code and zip code are sent in plaintext.\n",
    "          'countryCode': 'US',\n",
    "          'zipCode': '10001'\n",
    "      }\n",
    "    })\n",
    "\n",
    "    mutate_members_operation = {\n",
    "      'operand': {\n",
    "          'userListId': user_list_id,\n",
    "          'membersList': members\n",
    "      },\n",
    "      'operator': 'ADD'\n",
    "    }\n",
    "\n",
    "    response = user_list_service.mutateMembers([mutate_members_operation])\n",
    "\n",
    "    if 'userLists' in response:\n",
    "        for user_list in response['userLists']:\n",
    "            print('User list with name \"%s\" and ID \"%d\" was added.'\n",
    "            % (user_list['name'], user_list['id']))\n",
    "\n",
    "\n",
    "def NormalizeAndSHA256(s):\n",
    "    \"\"\"Normalizes (lowercase, remove whitespace) and hashes a string with SHA-256.\n",
    "\n",
    "    Args:\n",
    "    s: The string to perform this operation on.\n",
    "\n",
    "    Returns:\n",
    "    A normalized and SHA-256 hashed string.\n",
    "    \"\"\"\n",
    "    return hashlib.sha256(s.strip().lower().encode('utf-8')).hexdigest()\n"
   ]
  },
  {
   "cell_type": "code",
   "execution_count": 12,
   "metadata": {},
   "outputs": [
    {
     "name": "stdout",
     "output_type": "stream",
     "text": [
      "User list with name \"CJ testing audiences #319412714576167084846471096783420856396\" and ID \"1003816833\" was added.\n"
     ]
    }
   ],
   "source": [
    "if __name__ == '__main__':\n",
    "  # Initialize client object.\n",
    "    adwords_client = adwords.AdWordsClient.LoadFromStorage()\n",
    "    main(adwords_client)\n"
   ]
  },
  {
   "cell_type": "code",
   "execution_count": null,
   "metadata": {},
   "outputs": [],
   "source": []
  },
  {
   "cell_type": "code",
   "execution_count": null,
   "metadata": {},
   "outputs": [],
   "source": []
  },
  {
   "cell_type": "markdown",
   "metadata": {},
   "source": [
    "#### Account management"
   ]
  },
  {
   "cell_type": "code",
   "execution_count": 1,
   "metadata": {},
   "outputs": [],
   "source": [
    "from googleads import adwords "
   ]
  },
  {
   "cell_type": "code",
   "execution_count": 13,
   "metadata": {},
   "outputs": [],
   "source": [
    "client = adwords.AdWordsClient.LoadFromStorage()\n"
   ]
  },
  {
   "cell_type": "code",
   "execution_count": 14,
   "metadata": {},
   "outputs": [],
   "source": [
    "managed_customer_service = client.GetService('ManagedCustomerService', version='v201809')"
   ]
  },
  {
   "cell_type": "code",
   "execution_count": 17,
   "metadata": {},
   "outputs": [],
   "source": [
    "  selector = {\n",
    "      'fields': ['CustomerId', 'Name'],\n",
    "      'paging': {\n",
    "          'startIndex': str(0),\n",
    "          'numberResults': str(500)\n",
    "      }\n",
    "  }"
   ]
  },
  {
   "cell_type": "code",
   "execution_count": 18,
   "metadata": {},
   "outputs": [],
   "source": [
    "page = managed_customer_service.get(selector)"
   ]
  },
  {
   "cell_type": "code",
   "execution_count": 20,
   "metadata": {},
   "outputs": [
    {
     "data": {
      "text/plain": [
       "{\n",
       "    'name': 'Bestseller MCC',\n",
       "    'customerId': 6032696435,\n",
       "    'canManageClients': None,\n",
       "    'currencyCode': None,\n",
       "    'dateTimeZone': None,\n",
       "    'testAccount': None,\n",
       "    'accountLabels': [],\n",
       "    'excludeHiddenAccounts': None\n",
       "}"
      ]
     },
     "execution_count": 20,
     "metadata": {},
     "output_type": "execute_result"
    }
   ],
   "source": [
    "page['entries'][0]"
   ]
  },
  {
   "cell_type": "code",
   "execution_count": 21,
   "metadata": {},
   "outputs": [
    {
     "name": "stdout",
     "output_type": "stream",
     "text": [
      "Bestseller MCC 6032696435\n",
      "Bianco .COM 4597503221\n",
      "Denmark 3812358088\n",
      "Netherlands 8300849497\n",
      "France 8746487217\n",
      "Sweden 9867992499\n",
      "Germany 6750969312\n",
      "Austria 7743380801\n",
      "Norway 4260466089\n",
      "Belgium 7562498557\n",
      "Spain 8464468924\n",
      "Bianco MCC 2139732709\n",
      "Switzerland 6140631226\n",
      "Bestseller Norway 9736638326\n",
      "Bestseller United Kingdom 9257930304\n",
      "Bestseller France 9430599138\n",
      "Bestseller Netherlands 6758176275\n",
      "Bestseller Sweden 7696947624\n",
      "Bestseller Italy 7290233961\n",
      "Bestseller Belgium 2084987740\n",
      "Bestseller Germany 7347199214\n",
      "Bestseller Denmark 5101636173\n",
      "Bestseller Switzerland (Old) 8383604653\n",
      "Bestseller Austria 6925804489\n",
      "Bestseller Finland 5317350453\n",
      "Bestseller Spain 6491045163\n",
      "Finland 8070619655\n",
      "Bestseller Ireland 9811271963\n",
      "United Kingdom 2254253257\n",
      "Italy 5437886859\n",
      "Ireland 4305686650\n",
      "CSS - EUR 8683793333\n",
      "Poland 3996859068\n",
      "Bestseller Poland 7576782792\n",
      "Video UK 7941704962\n",
      "Video SE 6810144046\n",
      "Video DE 7098730229\n",
      "Bestseller Switzerland 5613732658\n",
      "Selected 7809200941\n"
     ]
    }
   ],
   "source": [
    "for account in page['entries']:\n",
    "    print(account['name'], account['customerId'])"
   ]
  }
 ],
 "metadata": {
  "kernelspec": {
   "display_name": "Python 3",
   "language": "python",
   "name": "python3"
  },
  "language_info": {
   "codemirror_mode": {
    "name": "ipython",
    "version": 3
   },
   "file_extension": ".py",
   "mimetype": "text/x-python",
   "name": "python",
   "nbconvert_exporter": "python",
   "pygments_lexer": "ipython3",
   "version": "3.7.0"
  }
 },
 "nbformat": 4,
 "nbformat_minor": 2
}
